{
  "nbformat": 4,
  "nbformat_minor": 0,
  "metadata": {
    "colab": {
      "name": "assignment 2.ipynb",
      "provenance": []
    },
    "kernelspec": {
      "name": "python3",
      "display_name": "Python 3"
    },
    "language_info": {
      "name": "python"
    }
  },
  "cells": [
    {
      "cell_type": "code",
      "metadata": {
        "colab": {
          "base_uri": "https://localhost:8080/"
        },
        "id": "DIzkk0M-ExI8",
        "outputId": "5559ef6e-8d6c-48c6-9b69-29cdea83afd8"
      },
      "source": [
        "def remove_items(test_list, item):\n",
        "      \n",
        "    # using list comprehension to perform the task\n",
        "    res = [i for i in test_list if i != item]\n",
        "  \n",
        "    return res\n",
        "  \n",
        "# driver code\n",
        "if __name__==\"__main__\":\n",
        "      \n",
        "    # initializing the list\n",
        "    test_list = [1, 3, 4, 6, 5, 1]\n",
        "  \n",
        "    # the item which is to be removed\n",
        "    item = 1\n",
        "  \n",
        "    # printing the original list\n",
        "    print (\"The original list is : \" + str(test_list))\n",
        "  \n",
        "    # calling the function remove_items()\n",
        "    res = remove_items(test_list, item)\n",
        "  \n",
        "    # printing result\n",
        "    print (\"The list after performing the remove operation is : \" + str(res))"
      ],
      "execution_count": 1,
      "outputs": [
        {
          "output_type": "stream",
          "text": [
            "The original list is : [1, 3, 4, 6, 5, 1]\n",
            "The list after performing the remove operation is : [3, 4, 6, 5]\n"
          ],
          "name": "stdout"
        }
      ]
    },
    {
      "cell_type": "code",
      "metadata": {
        "id": "OJz73OYkEyNA"
      },
      "source": [
        ""
      ],
      "execution_count": null,
      "outputs": []
    }
  ]
}